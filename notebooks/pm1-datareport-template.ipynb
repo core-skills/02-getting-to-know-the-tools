{
 "cells": [
  {
   "cell_type": "markdown",
   "metadata": {},
   "source": [
    "# Data Reporting and Communication - Template\n",
    "\n",
    "This exercise will go through systematically examining your dataset and producing a bit of a report which you can use to communicate the content, features and subtleties of your dataset. If you have a tablular dataset ready to go, we'd encourage you to use it! We've provided an example or two of going through this process (see the other pm notebooks). These example data reports are principally based on data which is relatively clean already - to highlight the key parts of the exercise without getting bogged down in the details of data munging which are often dataset specific."
   ]
  },
  {
   "cell_type": "markdown",
   "metadata": {},
   "source": [
    "## Read the Docs\n",
    "\n",
    "As we're working with new datasets, new types of data, and different domains, you might want to put together an analysis or visualisation which we haven't yet encountered. We'd suggest that you check out the documentation pages for some of the key packages if you're after something specific, or you run into an error you can trace back to these libraries:\n",
    "- [matplotlib](https://matplotlib.org/) for basic plotting (but allows control of many details where needed)\n",
    "- [pandas](https://pandas.pydata.org) for data handling (our dataframe library)\n",
    "- [seaborn](https://seaborn.pydata.org) for _nice_ data visualization\n",
    "- [scipy](https://scipy.org) for scientific libraries (particularly `scipy.stats` which we'll use for fitting some more unusual probability distributions), and \n",
    "- [statsmodels](https://www.statsmodels.org/stable/index.html) which gives us some more expressive curve fitting approaches, should you wish to use them"
   ]
  },
  {
   "cell_type": "markdown",
   "metadata": {},
   "source": [
    "## Import Your Dataset\n"
   ]
  },
  {
   "cell_type": "code",
   "execution_count": null,
   "metadata": {},
   "outputs": [],
   "source": [
    "from fetch import fetch_beijing_AQ_data, fetch_flue_gas_data\n",
    " \n",
    "# df = fetch_beijing_AQ_data()"
   ]
  },
  {
   "cell_type": "markdown",
   "metadata": {},
   "source": [
    "## Why was this dataset recorded?\n",
    "\n",
    "* What would you like to do with it? Is it amendable to that use case?\n",
    "* Does it have obvious limitations or restrictions to how it migth be used?\n",
    "* Is the data limited in relevance to a particular time period, area or site?"
   ]
  },
  {
   "cell_type": "code",
   "execution_count": null,
   "metadata": {},
   "outputs": [],
   "source": []
  },
  {
   "cell_type": "markdown",
   "metadata": {},
   "source": [
    "## Why might I be interested?\n",
    "\n",
    "* What else might this be useful for?\n",
    "* Could this be linked or integrated with another dataset?\n",
    "* Could your solution to the problem be re-used in another area of the business?\n"
   ]
  },
  {
   "cell_type": "code",
   "execution_count": null,
   "metadata": {},
   "outputs": [],
   "source": []
  },
  {
   "cell_type": "markdown",
   "metadata": {},
   "source": [
    "## How big a dataset are we talking?\n",
    "\n",
    "This one is relatively straightfoward, but provides some first-order constraints on what we may be able to do with it, and how you might want to work with your data:\n",
    "* Number of records\n",
    "* Number of variables\n",
    "* Size on disk"
   ]
  },
  {
   "cell_type": "code",
   "execution_count": null,
   "metadata": {},
   "outputs": [],
   "source": []
  },
  {
   "cell_type": "markdown",
   "metadata": {},
   "source": [
    "* Are there multiple groups of records within your dataset (e.g. multiple sites, machines, instances or time periods)?\n",
    "    * Is your target variable likely to be dependent on these groupings/is this key grouping your target variable (i.e. a classification problem)?\n",
    "    * Are there similar numbers of records for each of these groups, or is it a bit imbalanced?"
   ]
  },
  {
   "cell_type": "code",
   "execution_count": null,
   "metadata": {},
   "outputs": [],
   "source": []
  },
  {
   "cell_type": "markdown",
   "metadata": {},
   "source": [
    "## What are the variables?\n",
    "\n",
    "Provide an overview of the types and groupings of variables, where relevant:\n",
    "* What are the variable names? Should you rename these for clarity?\n",
    "\n"
   ]
  },
  {
   "cell_type": "code",
   "execution_count": null,
   "metadata": {},
   "outputs": [],
   "source": []
  },
  {
   "cell_type": "markdown",
   "metadata": {},
   "source": [
    "* Which variables are your targets (what you want to predict) and which are your likely inputs (what you'll use to predict your target)?"
   ]
  },
  {
   "cell_type": "code",
   "execution_count": null,
   "metadata": {},
   "outputs": [],
   "source": []
  },
  {
   "cell_type": "markdown",
   "metadata": {},
   "source": [
    "* How have the variables been measured/recorded?\n",
    "* Are units are important? Is the entire table in a consistent format/set of units?"
   ]
  },
  {
   "cell_type": "code",
   "execution_count": null,
   "metadata": {},
   "outputs": [],
   "source": []
  },
  {
   "cell_type": "markdown",
   "metadata": {},
   "source": [
    "* Are variables in the right formats?\n",
    "    * Have some numerical variables been converted to strings/objects?\n",
    "    * Are dates recorded in a convenient format?\n",
    "    * Do you have [categorical](https://pandas.pydata.org/pandas-docs/stable/user_guide/categorical.html) variables which you could appropriately encode?\n"
   ]
  },
  {
   "cell_type": "code",
   "execution_count": null,
   "metadata": {},
   "outputs": [],
   "source": []
  },
  {
   "cell_type": "markdown",
   "metadata": {},
   "source": [
    "* Are some data missing?\n",
    "    * Are they randomly or systemtically missing?\n",
    "    * Is there a correlation between 'missingness' across variables?\n",
    "    * How is missing data recorded? Are there more than one form of missing data, and if so do you want to retain that information (e.g. 'below detection', 'not measured')?\n",
    "    * What are your options for [dealing with the missing data](https://pandas.pydata.org/pandas-docs/stable/user_guide/missing_data.html)? Do you need to drop these rows, or can you fill the values/impute the values?\n",
    "   "
   ]
  },
  {
   "cell_type": "code",
   "execution_count": null,
   "metadata": {},
   "outputs": [],
   "source": []
  },
  {
   "cell_type": "markdown",
   "metadata": {},
   "source": [
    "* How are the variables distributed?\n",
    "    * Are they approximately normally distributed?\n",
    "    * Will you need to transform these before using them in a machine learning pipeline?\n",
    "    * What are appropriate values for your target variable (i.e. continuous real values, continous positive values, boolean, categories)? "
   ]
  },
  {
   "cell_type": "code",
   "execution_count": null,
   "metadata": {},
   "outputs": [],
   "source": []
  },
  {
   "cell_type": "markdown",
   "metadata": {},
   "source": [
    "* What do the correlations of variables look like? Are there 'blocks' or groups of variables which are correlated with one another, or is each providing different information?"
   ]
  },
  {
   "cell_type": "code",
   "execution_count": null,
   "metadata": {},
   "outputs": [],
   "source": []
  },
  {
   "cell_type": "markdown",
   "metadata": {},
   "source": [
    "## Visualising Key Relationships\n",
    "\n",
    "\n",
    "* What are some key relationships within your dataset?\n"
   ]
  },
  {
   "cell_type": "code",
   "execution_count": null,
   "metadata": {},
   "outputs": [],
   "source": []
  },
  {
   "cell_type": "markdown",
   "metadata": {},
   "source": [
    "* Are there outliers?\n",
    "    * Are they related to incorrect data, rare events or potential data entry issues?\n",
    "    * Are they likely to have a negative impact on your model, or are they an inherent feature of the dataset?\n",
    "    * If you're to remove them, what's a good way of selecting them?"
   ]
  },
  {
   "cell_type": "code",
   "execution_count": null,
   "metadata": {},
   "outputs": [],
   "source": []
  },
  {
   "cell_type": "markdown",
   "metadata": {},
   "source": [
    "* How might you investigate this dataset further?"
   ]
  },
  {
   "cell_type": "code",
   "execution_count": null,
   "metadata": {},
   "outputs": [],
   "source": []
  },
  {
   "cell_type": "markdown",
   "metadata": {},
   "source": [
    "* Do you expect any major hurdles for getting this dataset analysis ready? Are there any key decisions you need to make about pre-processing?"
   ]
  },
  {
   "cell_type": "code",
   "execution_count": null,
   "metadata": {},
   "outputs": [],
   "source": []
  },
  {
   "cell_type": "markdown",
   "metadata": {},
   "source": [
    "## Optional: Find another dataset that we could fuse with this one.\n",
    "\n",
    "* Are there other datasets which might provide some additional context to solve your problem (e.g. bringing in data from logs, weather data, imagery)?\n"
   ]
  },
  {
   "cell_type": "code",
   "execution_count": null,
   "metadata": {},
   "outputs": [],
   "source": []
  },
  {
   "cell_type": "markdown",
   "metadata": {},
   "source": [
    "* Could your dataset be integrated with data from further along the processing chain/another part of the business to solve problems there?"
   ]
  },
  {
   "cell_type": "code",
   "execution_count": null,
   "metadata": {},
   "outputs": [],
   "source": []
  }
 ],
 "metadata": {
  "kernelspec": {
   "display_name": "core04",
   "language": "python",
   "name": "core04"
  },
  "language_info": {
   "codemirror_mode": {
    "name": "ipython",
    "version": 3
   },
   "file_extension": ".py",
   "mimetype": "text/x-python",
   "name": "python",
   "nbconvert_exporter": "python",
   "pygments_lexer": "ipython3",
   "version": "3.8.5"
  }
 },
 "nbformat": 4,
 "nbformat_minor": 4
}
